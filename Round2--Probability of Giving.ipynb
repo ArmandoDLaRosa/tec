{
 "cells": [
  {
   "cell_type": "code",
   "execution_count": 1,
   "id": "780a0fbe",
   "metadata": {},
   "outputs": [],
   "source": [
    "from scipy.stats import pearsonr\n",
    "import pandas as pd\n",
    "import random \n",
    "from scipy.stats import describe, pearsonr, zscore, f_oneway, yeojohnson, shapiro, probplot, levene\n",
    "import numpy as np\n",
    "import matplotlib.pyplot as plt\n",
    "import statsmodels.api as sm\n",
    "\n",
    "def explore(df: pd.DataFrame) -> pd.DataFrame:\n",
    "    ex1, ex2, ex3 = random.sample(range(len(df)), 3)\n",
    "\n",
    "    print(\"Dataframe total rows: \", len(df))\n",
    "    df_info = pd.DataFrame(data = df.dtypes)\n",
    "    not_missing_values_total = df.notnull().sum()\n",
    "    not_missing_values_percent = round(not_missing_values_total/len(df)*100,2).astype(str)+\" %\"\n",
    "\n",
    "    return pd.concat([df_info[0].rename(\"Data Type\"),\\\n",
    "            df.T[ex1].rename(\"Example 1\"),\\\n",
    "            df.T[ex2].rename(\"Example 2\"),\\\n",
    "            df.T[ex3].rename(\"Example 3\"),\\\n",
    "            not_missing_values_total.rename(\"Total Not Missing\"), \\\n",
    "            not_missing_values_percent.rename(\"% of not missing values\")], axis=1)\n",
    "    \n",
    "def stepwise_selection(X, y, \n",
    "                       initial_list=[], \n",
    "                       threshold_in=0.01, \n",
    "                       threshold_out = 0.05, \n",
    "                       verbose=True):\n",
    "    \"\"\" Perform a forward-backward feature selection \n",
    "    based on p-value from statsmodels.api.OLS\n",
    "    Arguments:\n",
    "        X - pandas.DataFrame with candidate features\n",
    "        y - list-like with the target\n",
    "        initial_list - list of features to start with (column names of X)\n",
    "        threshold_in - include a feature if its p-value < threshold_in\n",
    "        threshold_out - exclude a feature if its p-value > threshold_out\n",
    "        verbose - whether to print the sequence of inclusions and exclusions\n",
    "    Returns: list of selected features \n",
    "    Always set threshold_in < threshold_out to avoid infinite looping.\n",
    "    See https://en.wikipedia.org/wiki/Stepwise_regression for the details\n",
    "    \"\"\"\n",
    "    included = list(initial_list)\n",
    "    while True:\n",
    "        changed=False\n",
    "        # forward step\n",
    "        excluded = list(set(X.columns)-set(included))\n",
    "        new_pval = pd.Series(index=excluded, dtype='float64')\n",
    "        for new_column in excluded:\n",
    "            model = sm.OLS(y, sm.add_constant(pd.DataFrame(X[included+[new_column]]))).fit()\n",
    "            new_pval[new_column] = model.pvalues[new_column]\n",
    "        best_pval = new_pval.min()\n",
    "        if best_pval < threshold_in:\n",
    "            best_feature = new_pval.idxmin()\n",
    "            included.append(best_feature)\n",
    "            changed=True\n",
    "            if verbose:\n",
    "                print('Add  {:30} with p-value {:.6}'.format(best_feature, best_pval))\n",
    "\n",
    "        # backward step\n",
    "        model = sm.OLS(y, sm.add_constant(pd.DataFrame(X[included]))).fit()\n",
    "        # use all coefs except intercept\n",
    "        pvalues = model.pvalues.iloc[1:]\n",
    "        worst_pval = pvalues.max() # null if pvalues is empty\n",
    "        if worst_pval > threshold_out:\n",
    "            changed=True\n",
    "            worst_feature = pvalues.idxmax()\n",
    "            included.remove(worst_feature)\n",
    "            if verbose:\n",
    "                print('Drop {:30} with p-value {:.6}'.format(worst_feature, worst_pval))\n",
    "        if not changed:\n",
    "            break\n",
    "    return included    \n",
    "\n",
    "def calculate_pvalues(df):\n",
    "    df = df.dropna()._get_numeric_data()\n",
    "    dfcols = pd.DataFrame(columns=df.columns)\n",
    "    pvalues = dfcols.transpose().join(dfcols, how='outer')\n",
    "    for r in df.columns:\n",
    "        for c in df.columns:\n",
    "            pvalues[r][c] = round(pearsonr(df[r], df[c])[1], 4)\n",
    "    return pvalues"
   ]
  },
  {
   "cell_type": "code",
   "execution_count": 20,
   "id": "7e45b4e0-ab05-4aae-9e7b-56742870da33",
   "metadata": {
    "collapsed": true
   },
   "outputs": [
    {
     "name": "stdout",
     "output_type": "stream",
     "text": [
      "Using SAS Config named: oda\n",
      "SAS Connection established. Subprocess id is 1165\n",
      "\n"
     ]
    },
    {
     "data": {
      "text/plain": [
       "Access Method         = IOM\n",
       "SAS Config name       = oda\n",
       "SAS Config file       = /home/armando/.virtualenvs/school-54vk9BCB/lib/python3.8/site-packages/saspy/sascfg_personal.py\n",
       "WORK Path             = /saswork/SAS_work46F30001F904_odaws02-usw2.oda.sas.com/SAS_workBACB0001F904_odaws02-usw2.oda.sas.com/\n",
       "SAS Version           = 9.04.01M6P11072018\n",
       "SASPy Version         = 4.4.0\n",
       "Teach me SAS          = False\n",
       "Batch                 = False\n",
       "Results               = Pandas\n",
       "SAS Session Encoding  = utf-8\n",
       "Python Encoding value = utf-8\n",
       "SAS process Pid value = 129284\n"
      ]
     },
     "execution_count": 20,
     "metadata": {},
     "output_type": "execute_result"
    }
   ],
   "source": [
    "import saspy\n",
    "sas_session = saspy.SASsession()\n",
    "sas_session"
   ]
  },
  {
   "cell_type": "code",
   "execution_count": 24,
   "id": "d4204cf9",
   "metadata": {
    "collapsed": true
   },
   "outputs": [
    {
     "data": {
      "text/html": [
       "<!DOCTYPE html PUBLIC \"-//W3C//DTD HTML 4.01//EN\"\n",
       "   \"http://www.w3.org/TR/html4/strict.dtd\">\n",
       "<!--\n",
       "generated by Pygments <https://pygments.org/>\n",
       "Copyright 2006-2022 by the Pygments team.\n",
       "Licensed under the BSD license, see LICENSE for details.\n",
       "-->\n",
       "<html>\n",
       "<head>\n",
       "  <title></title>\n",
       "  <meta http-equiv=\"content-type\" content=\"text/html; charset=None\">\n",
       "  <style type=\"text/css\">\n",
       "/*\n",
       "generated by Pygments <https://pygments.org/>\n",
       "Copyright 2006-2022 by the Pygments team.\n",
       "Licensed under the BSD license, see LICENSE for details.\n",
       "*/\n",
       "pre { line-height: 125%; }\n",
       "td.linenos .normal { color: inherit; background-color: transparent; padding-left: 5px; padding-right: 5px; }\n",
       "span.linenos { color: inherit; background-color: transparent; padding-left: 5px; padding-right: 5px; }\n",
       "td.linenos .special { color: #000000; background-color: #ffffc0; padding-left: 5px; padding-right: 5px; }\n",
       "span.linenos.special { color: #000000; background-color: #ffffc0; padding-left: 5px; padding-right: 5px; }\n",
       "body .hll { background-color: #ffffcc }\n",
       "body { background: #ffffff; }\n",
       "body .c { color: #0000FF } /* Comment */\n",
       "body .k { color: #ff0000; font-weight: bold } /* Keyword */\n",
       "body .n { color: #008000 } /* Name */\n",
       "body .ch { color: #0000FF } /* Comment.Hashbang */\n",
       "body .cm { color: #0000FF } /* Comment.Multiline */\n",
       "body .cp { color: #0000FF } /* Comment.Preproc */\n",
       "body .cpf { color: #0000FF } /* Comment.PreprocFile */\n",
       "body .c1 { color: #0000FF } /* Comment.Single */\n",
       "body .cs { color: #0000FF } /* Comment.Special */\n",
       "body .kc { color: #ff0000; font-weight: bold } /* Keyword.Constant */\n",
       "body .kd { color: #ff0000; font-weight: bold } /* Keyword.Declaration */\n",
       "body .kn { color: #ff0000; font-weight: bold } /* Keyword.Namespace */\n",
       "body .kp { color: #ff0000; font-weight: bold } /* Keyword.Pseudo */\n",
       "body .kr { color: #ff0000; font-weight: bold } /* Keyword.Reserved */\n",
       "body .kt { color: #ff0000; font-weight: bold } /* Keyword.Type */\n",
       "body .s { color: #111111 } /* Literal.String */\n",
       "body .na { color: #008000 } /* Name.Attribute */\n",
       "body .nb { color: #008000 } /* Name.Builtin */\n",
       "body .nc { color: #008000 } /* Name.Class */\n",
       "body .no { color: #008000 } /* Name.Constant */\n",
       "body .nd { color: #008000 } /* Name.Decorator */\n",
       "body .ni { color: #008000 } /* Name.Entity */\n",
       "body .ne { color: #008000 } /* Name.Exception */\n",
       "body .nf { color: #008000 } /* Name.Function */\n",
       "body .nl { color: #008000 } /* Name.Label */\n",
       "body .nn { color: #008000 } /* Name.Namespace */\n",
       "body .nx { color: #008000 } /* Name.Other */\n",
       "body .py { color: #008000 } /* Name.Property */\n",
       "body .nt { color: #008000 } /* Name.Tag */\n",
       "body .nv { color: #008000 } /* Name.Variable */\n",
       "body .sa { color: #111111 } /* Literal.String.Affix */\n",
       "body .sb { color: #111111 } /* Literal.String.Backtick */\n",
       "body .sc { color: #111111 } /* Literal.String.Char */\n",
       "body .dl { color: #111111 } /* Literal.String.Delimiter */\n",
       "body .sd { color: #111111 } /* Literal.String.Doc */\n",
       "body .s2 { color: #111111 } /* Literal.String.Double */\n",
       "body .se { color: #111111 } /* Literal.String.Escape */\n",
       "body .sh { color: #111111 } /* Literal.String.Heredoc */\n",
       "body .si { color: #111111 } /* Literal.String.Interpol */\n",
       "body .sx { color: #111111 } /* Literal.String.Other */\n",
       "body .sr { color: #111111 } /* Literal.String.Regex */\n",
       "body .s1 { color: #111111 } /* Literal.String.Single */\n",
       "body .ss { color: #111111 } /* Literal.String.Symbol */\n",
       "body .bp { color: #008000 } /* Name.Builtin.Pseudo */\n",
       "body .fm { color: #008000 } /* Name.Function.Magic */\n",
       "body .vc { color: #008000 } /* Name.Variable.Class */\n",
       "body .vg { color: #008000 } /* Name.Variable.Global */\n",
       "body .vi { color: #008000 } /* Name.Variable.Instance */\n",
       "body .vm { color: #008000 } /* Name.Variable.Magic */\n",
       "\n",
       "  </style>\n",
       "</head>\n",
       "<body>\n",
       "<h2></h2>\n",
       "\n",
       "<div class=\"highlight\"><pre><span></span><span class=\"s\">11                                                         The SAS System                      Friday, December  2, 2022 02:28:00 PM</span><br><br><span class=\"s\">58         ods listing close;ods html5 (id=saspy_internal) file=_tomods1 options(bitmap_mode=&#39;inline&#39;) device=svg style=HTMLBlue;</span><br><span class=\"s\">58       ! ods graphics on / outputfmt=png;</span><br><span class=\"s\">59         </span><br><span class=\"s\">60         </span><br><span class=\"s\">61         libname cortex &#39;~/my_shared_file_links/u39842936/Cortex Data Sets&#39;;</span><br><span class=\"s\">62         </span><br><span class=\"s\">63         </span><br><span class=\"s\">64         </span><br><span class=\"s\">65         ods html5 (id=saspy_internal) close;ods listing;</span><br><span class=\"s\">66         </span><br><br><span class=\"s\">12                                                         The SAS System                      Friday, December  2, 2022 02:28:00 PM</span><br><br><span class=\"s\">67         </span><br></pre></div>\n",
       "</body>\n",
       "</html>\n"
      ],
      "text/plain": [
       "<IPython.core.display.HTML object>"
      ]
     },
     "execution_count": 24,
     "metadata": {},
     "output_type": "execute_result"
    }
   ],
   "source": [
    "%%SAS sas_session\n",
    "\n",
    "libname cortex '~/my_shared_file_links/u39842936/Cortex Data Sets';"
   ]
  },
  {
   "cell_type": "code",
   "execution_count": 4,
   "id": "f298efcc",
   "metadata": {},
   "outputs": [],
   "source": [
    "import pandas as pd\n",
    "\n",
    "# data1 = sas_session.sasdata2dataframe(\n",
    "# table='hist',\n",
    "# libref='cortex'\n",
    "# )\n",
    "\n",
    "# data2 = sas_session.sasdata2dataframe(\n",
    "# table='target_rd2',\n",
    "# libref='cortex'\n",
    "# )"
   ]
  },
  {
   "cell_type": "markdown",
   "id": "beaff555-bf37-42fe-8e66-69718409b295",
   "metadata": {},
   "source": [
    "## Merge the Data"
   ]
  },
  {
   "cell_type": "code",
   "execution_count": 5,
   "id": "419ef624",
   "metadata": {
    "collapsed": true
   },
   "outputs": [
    {
     "data": {
      "text/plain": [
       "1000000"
      ]
     },
     "execution_count": 5,
     "metadata": {},
     "output_type": "execute_result"
    }
   ],
   "source": [
    "# data_merge = pd.merge(data1, data2, on=[\"ID\"],how=\"right\")\n",
    "# data_merge.to_csv(\"og3.csv\", index= False)\n",
    "data_merge = pd.read_csv(\"og3.csv\")\n",
    "len(data_merge)"
   ]
  },
  {
   "cell_type": "markdown",
   "id": "206e4d61-0bb7-4f80-97d7-4c175c013d44",
   "metadata": {},
   "source": [
    "## Treating Missing Values\n",
    "\n",
    "Please be aware that deleting all missing values can induce a selection bias. \n",
    "Some missing values are very informative. For example, when MinGift is missing, it means that the donor never gave in the past 10 years (leading to but excluding last year). Instead of deleting this information, replacing it by 0 is more appropriate!\n",
    "\n",
    "A good understanding of the business case and the data can help you come up with more appropriate strategies to deal with missing values."
   ]
  },
  {
   "cell_type": "code",
   "execution_count": 6,
   "id": "8251f011-2e56-49e1-8bdc-32a852dd2700",
   "metadata": {
    "collapsed": true
   },
   "outputs": [
    {
     "data": {
      "text/html": [
       "<div>\n",
       "<style scoped>\n",
       "    .dataframe tbody tr th:only-of-type {\n",
       "        vertical-align: middle;\n",
       "    }\n",
       "\n",
       "    .dataframe tbody tr th {\n",
       "        vertical-align: top;\n",
       "    }\n",
       "\n",
       "    .dataframe thead th {\n",
       "        text-align: right;\n",
       "    }\n",
       "</style>\n",
       "<table border=\"1\" class=\"dataframe\">\n",
       "  <thead>\n",
       "    <tr style=\"text-align: right;\">\n",
       "      <th></th>\n",
       "      <th>ID</th>\n",
       "      <th>LastName</th>\n",
       "      <th>FirstName</th>\n",
       "      <th>Woman</th>\n",
       "      <th>Age</th>\n",
       "      <th>Salary</th>\n",
       "      <th>Education</th>\n",
       "      <th>City</th>\n",
       "      <th>SeniorList</th>\n",
       "      <th>NbActivities</th>\n",
       "      <th>...</th>\n",
       "      <th>Frequency</th>\n",
       "      <th>Seniority</th>\n",
       "      <th>TotalGift</th>\n",
       "      <th>MinGift</th>\n",
       "      <th>MaxGift</th>\n",
       "      <th>GaveLastYear</th>\n",
       "      <th>AmtLastYear</th>\n",
       "      <th>Contact</th>\n",
       "      <th>GaveThisYear</th>\n",
       "      <th>AmtThisYear</th>\n",
       "    </tr>\n",
       "  </thead>\n",
       "  <tbody>\n",
       "    <tr>\n",
       "      <th>150344</th>\n",
       "      <td>2150345.0</td>\n",
       "      <td>53589</td>\n",
       "      <td>2535</td>\n",
       "      <td>1.0</td>\n",
       "      <td>82.0</td>\n",
       "      <td>21300.0</td>\n",
       "      <td>1</td>\n",
       "      <td>3</td>\n",
       "      <td>10.0</td>\n",
       "      <td>0.0</td>\n",
       "      <td>...</td>\n",
       "      <td>1.0</td>\n",
       "      <td>4.0</td>\n",
       "      <td>40.0</td>\n",
       "      <td>20.0</td>\n",
       "      <td>30.0</td>\n",
       "      <td>0.0</td>\n",
       "      <td>0.0</td>\n",
       "      <td>1.0</td>\n",
       "      <td>0.0</td>\n",
       "      <td>0.0</td>\n",
       "    </tr>\n",
       "    <tr>\n",
       "      <th>413561</th>\n",
       "      <td>2413562.0</td>\n",
       "      <td>100995</td>\n",
       "      <td>2146</td>\n",
       "      <td>0.0</td>\n",
       "      <td>24.0</td>\n",
       "      <td>2700.0</td>\n",
       "      <td>2</td>\n",
       "      <td>3</td>\n",
       "      <td>8.0</td>\n",
       "      <td>1.0</td>\n",
       "      <td>...</td>\n",
       "      <td>1.0</td>\n",
       "      <td>3.0</td>\n",
       "      <td>10.0</td>\n",
       "      <td>10.0</td>\n",
       "      <td>10.0</td>\n",
       "      <td>0.0</td>\n",
       "      <td>0.0</td>\n",
       "      <td>0.0</td>\n",
       "      <td>0.0</td>\n",
       "      <td>0.0</td>\n",
       "    </tr>\n",
       "  </tbody>\n",
       "</table>\n",
       "<p>2 rows × 22 columns</p>\n",
       "</div>"
      ],
      "text/plain": [
       "               ID  LastName  FirstName  Woman   Age   Salary  Education  City  \\\n",
       "150344  2150345.0     53589       2535    1.0  82.0  21300.0          1     3   \n",
       "413561  2413562.0    100995       2146    0.0  24.0   2700.0          2     3   \n",
       "\n",
       "        SeniorList  NbActivities  ...  Frequency  Seniority  TotalGift  \\\n",
       "150344        10.0           0.0  ...        1.0        4.0       40.0   \n",
       "413561         8.0           1.0  ...        1.0        3.0       10.0   \n",
       "\n",
       "        MinGift  MaxGift  GaveLastYear  AmtLastYear  Contact  GaveThisYear  \\\n",
       "150344     20.0     30.0           0.0          0.0      1.0           0.0   \n",
       "413561     10.0     10.0           0.0          0.0      0.0           0.0   \n",
       "\n",
       "        AmtThisYear  \n",
       "150344          0.0  \n",
       "413561          0.0  \n",
       "\n",
       "[2 rows x 22 columns]"
      ]
     },
     "execution_count": 6,
     "metadata": {},
     "output_type": "execute_result"
    }
   ],
   "source": [
    "# In this case, we are replacing MinGift by 0.\n",
    "# You can do the same for what you think is reasonable for dealing with the other variables.\n",
    "var_types = {\"number\" : \"median\", \"object\" : \"mode\"}\n",
    "for var_type in list(var_types.keys()):\n",
    "    for col in data_merge.select_dtypes(include=var_type).columns:\n",
    "        data_merge[col] = data_merge[col].fillna(getattr(data_merge[col], var_types[var_type])())\n",
    "            \n",
    "for col in data_merge.select_dtypes(include=\"object\"):\n",
    "    data_merge[col] = data_merge[col].astype('category')\n",
    "    data_merge[col] = data_merge[col].cat.codes\n",
    "    \n",
    "data_merge.sample(2)"
   ]
  },
  {
   "cell_type": "code",
   "execution_count": 7,
   "id": "adf49a16",
   "metadata": {},
   "outputs": [],
   "source": [
    "# from sklearn.ensemble import RandomForestRegressor\n",
    "# from sklearn.feature_selection import SelectFromModel\n",
    "# sel = SelectFromModel(RandomForestRegressor())\n",
    "# X = data_merge.drop([\"ID\", \"AmtThisYear\", \"GaveThisYear\", \"LastName\", \"FirstName\"], axis=1)\n",
    "# sel.fit(X, data_merge[\"GaveThisYear\"])\n",
    "\n",
    "# importances = sel.estimator_.feature_importances_\n",
    "# names = sel.estimator_.feature_names_in_\n",
    "\n",
    "# indices = np.argsort(importances)[::-1]\n",
    "\n",
    "# plt.figure(figsize=(10,5))\n",
    "# plt.title(\"Feature importances\")\n",
    "# plt.bar(range(X.shape[1]), importances[indices], color=\"r\", align=\"center\")\n",
    "# plt.xticks(range(X.shape[1]), [names[i] for i in indices])\n",
    "# plt.xlim([-1, X.shape[1]])\n",
    "# plt.show()"
   ]
  },
  {
   "cell_type": "code",
   "execution_count": 8,
   "id": "f916fe0b",
   "metadata": {},
   "outputs": [],
   "source": [
    "from sklearn.preprocessing import PowerTransformer\n",
    "\n",
    "power = PowerTransformer(method='yeo-johnson', standardize=True)\n",
    "X= data_merge.drop([\"ID\", \"GaveThisYear\"], axis=1)\n",
    "X_cols = X.columns\n",
    "X = power.fit_transform(X)\n",
    "X = pd.DataFrame(X, columns = X_cols) "
   ]
  },
  {
   "cell_type": "code",
   "execution_count": 9,
   "id": "63eca19e",
   "metadata": {},
   "outputs": [],
   "source": [
    "selection = ['Salary', 'Age', 'Contact', 'SeniorList',  'City', 'Education', 'Woman', 'TotalGift', 'AmtLastYear', 'NbActivities',]\n",
    "\n",
    "cols = selection + ['GaveThisYear'] #['Age', 'Salary','MinGift', 'AmtLastYear','Woman', 'NbActivities', 'AmtThisYear']"
   ]
  },
  {
   "cell_type": "code",
   "execution_count": 10,
   "id": "d4d4de96",
   "metadata": {},
   "outputs": [
    {
     "data": {
      "text/plain": [
       "861470"
      ]
     },
     "execution_count": 10,
     "metadata": {},
     "output_type": "execute_result"
    }
   ],
   "source": [
    "data = X\n",
    "data[\"GaveThisYear\"] = data_merge[\"GaveThisYear\"]\n",
    "\n",
    "\n",
    "data = data[cols] \n",
    "data = data[(np.abs(zscore(data.select_dtypes(include ='number'))) < 2).all(axis=1)]\n",
    "len(data)"
   ]
  },
  {
   "cell_type": "markdown",
   "id": "780fc71d-171e-4bb7-9e0c-89572856cc5f",
   "metadata": {},
   "source": [
    "## Data Partition"
   ]
  },
  {
   "cell_type": "code",
   "execution_count": 11,
   "id": "859f053e-5121-4edd-9d99-bed485d7d0cb",
   "metadata": {
    "collapsed": true
   },
   "outputs": [
    {
     "data": {
      "text/html": [
       "<div>\n",
       "<style scoped>\n",
       "    .dataframe tbody tr th:only-of-type {\n",
       "        vertical-align: middle;\n",
       "    }\n",
       "\n",
       "    .dataframe tbody tr th {\n",
       "        vertical-align: top;\n",
       "    }\n",
       "\n",
       "    .dataframe thead th {\n",
       "        text-align: right;\n",
       "    }\n",
       "</style>\n",
       "<table border=\"1\" class=\"dataframe\">\n",
       "  <thead>\n",
       "    <tr style=\"text-align: right;\">\n",
       "      <th></th>\n",
       "      <th>Salary</th>\n",
       "      <th>Age</th>\n",
       "      <th>Contact</th>\n",
       "      <th>SeniorList</th>\n",
       "      <th>City</th>\n",
       "      <th>Education</th>\n",
       "      <th>Woman</th>\n",
       "      <th>TotalGift</th>\n",
       "      <th>AmtLastYear</th>\n",
       "      <th>NbActivities</th>\n",
       "      <th>GaveThisYear</th>\n",
       "    </tr>\n",
       "  </thead>\n",
       "  <tbody>\n",
       "    <tr>\n",
       "      <th>871259</th>\n",
       "      <td>-0.668949</td>\n",
       "      <td>-0.017549</td>\n",
       "      <td>-0.333333</td>\n",
       "      <td>-0.333340</td>\n",
       "      <td>0.503416</td>\n",
       "      <td>-1.310843</td>\n",
       "      <td>0.966683</td>\n",
       "      <td>0.003631</td>\n",
       "      <td>-0.372938</td>\n",
       "      <td>1.253741</td>\n",
       "      <td>0.0</td>\n",
       "    </tr>\n",
       "    <tr>\n",
       "      <th>869164</th>\n",
       "      <td>0.703464</td>\n",
       "      <td>1.363931</td>\n",
       "      <td>-0.333333</td>\n",
       "      <td>-1.552988</td>\n",
       "      <td>1.149933</td>\n",
       "      <td>-1.310843</td>\n",
       "      <td>0.966683</td>\n",
       "      <td>0.003631</td>\n",
       "      <td>-0.372938</td>\n",
       "      <td>-0.709013</td>\n",
       "      <td>1.0</td>\n",
       "    </tr>\n",
       "  </tbody>\n",
       "</table>\n",
       "</div>"
      ],
      "text/plain": [
       "          Salary       Age   Contact  SeniorList      City  Education  \\\n",
       "871259 -0.668949 -0.017549 -0.333333   -0.333340  0.503416  -1.310843   \n",
       "869164  0.703464  1.363931 -0.333333   -1.552988  1.149933  -1.310843   \n",
       "\n",
       "           Woman  TotalGift  AmtLastYear  NbActivities  GaveThisYear  \n",
       "871259  0.966683   0.003631    -0.372938      1.253741           0.0  \n",
       "869164  0.966683   0.003631    -0.372938     -0.709013           1.0  "
      ]
     },
     "execution_count": 11,
     "metadata": {},
     "output_type": "execute_result"
    }
   ],
   "source": [
    "# The code below is an illustration on how to sample data on train and validation samples.\n",
    "# You could use another library or a built-in function to perform sampling.\n",
    "\n",
    "from sklearn.model_selection import train_test_split\n",
    "train, validation = train_test_split(data, test_size=0.4, random_state=12345, stratify = data.GaveThisYear) \n",
    "\n",
    "#train.head()\n",
    "train.sample(2)"
   ]
  },
  {
   "cell_type": "code",
   "execution_count": 12,
   "id": "28d71d2b",
   "metadata": {},
   "outputs": [],
   "source": [
    "from sklearn.metrics import (accuracy_score, classification_report,\n",
    "                             confusion_matrix, precision_recall_curve,\n",
    "                             roc_auc_score, roc_curve)\n",
    "from sklearn.model_selection import (GridSearchCV, KFold, cross_validate,)\n",
    "from sklearn import decomposition\n",
    "from sklearn.pipeline import Pipeline"
   ]
  },
  {
   "cell_type": "markdown",
   "id": "edcdac44-c84b-4fe5-881f-05a2ecb98e6a",
   "metadata": {},
   "source": [
    "# Prebuilt Models\n",
    "\n",
    "The sk-learn library offers more advanced models. \n",
    "\n",
    "sk-learn library: https://scikit-learn.org/stable/index.html  \n",
    "\n",
    "## Logistic Regression Model"
   ]
  },
  {
   "cell_type": "code",
   "execution_count": 13,
   "id": "9f33ea4c",
   "metadata": {},
   "outputs": [],
   "source": [
    "from sklearn.linear_model import LogisticRegression\n",
    "\n",
    "#comment: it's numpy array ==> categorical variables\n",
    "X_train = train.drop(\"GaveThisYear\", axis=1)\n",
    "Y_train = train['GaveThisYear']\n",
    "X_valid = validation.drop(\"GaveThisYear\", axis=1)\n",
    "Y_valid = validation['GaveThisYear']\n",
    "\n",
    "\n",
    "regr = LogisticRegression()\n",
    "regr.fit(X_train,Y_train)\n",
    "regr_predict=regr.predict(X_valid)"
   ]
  },
  {
   "cell_type": "code",
   "execution_count": 14,
   "id": "a6ff2946",
   "metadata": {
    "collapsed": true
   },
   "outputs": [
    {
     "name": "stdout",
     "output_type": "stream",
     "text": [
      "[[303083      1]\n",
      " [ 41504      0]]\n"
     ]
    }
   ],
   "source": [
    "#you can change the criteria\n",
    "\n",
    "import numpy as np\n",
    "from sklearn.metrics import confusion_matrix\n",
    "from sklearn.metrics import confusion_matrix\n",
    "\n",
    "confusion_matrix = confusion_matrix(Y_valid, regr_predict)\n",
    "print(confusion_matrix)"
   ]
  },
  {
   "cell_type": "code",
   "execution_count": 15,
   "id": "21803ab0-c771-4a27-b0ab-81a2a304f719",
   "metadata": {
    "collapsed": true
   },
   "outputs": [
    {
     "name": "stdout",
     "output_type": "stream",
     "text": [
      "              precision    recall  f1-score   support\n",
      "\n",
      "         0.0       0.88      1.00      0.94    303084\n",
      "         1.0       0.00      0.00      0.00     41504\n",
      "\n",
      "    accuracy                           0.88    344588\n",
      "   macro avg       0.44      0.50      0.47    344588\n",
      "weighted avg       0.77      0.88      0.82    344588\n",
      "\n"
     ]
    }
   ],
   "source": [
    "from sklearn.metrics import classification_report\n",
    "print(classification_report(Y_valid, regr_predict))"
   ]
  },
  {
   "cell_type": "code",
   "execution_count": 16,
   "id": "d27a7bb1-e651-474a-ae3e-4f09540815e6",
   "metadata": {
    "collapsed": true
   },
   "outputs": [
    {
     "data": {
      "image/png": "[encoded data removed]",
      "text/plain": [
       "<Figure size 640x480 with 1 Axes>"
      ]
     },
     "metadata": {},
     "output_type": "display_data"
    }
   ],
   "source": [
    "from sklearn.metrics import roc_auc_score\n",
    "from sklearn.metrics import roc_curve\n",
    "import matplotlib.pyplot as plt \n",
    "plt.rc(\"font\", size=14)\n",
    "\n",
    "logit_roc_auc = roc_auc_score(Y_valid, regr.predict(X_valid))\n",
    "fpr, tpr, thresholds = roc_curve(Y_valid, regr.predict_proba(X_valid)[:,1])\n",
    "plt.figure()\n",
    "plt.plot(fpr, tpr, label='Logistic Regression (area = %0.2f)' % logit_roc_auc)\n",
    "plt.plot([0, 1], [0, 1],'r--')\n",
    "plt.xlim([0.0, 1.0])\n",
    "plt.ylim([0.0, 1.05])\n",
    "plt.xlabel('False Positive Rate')\n",
    "plt.ylabel('True Positive Rate')\n",
    "plt.title('Receiver operating characteristic')\n",
    "plt.legend(loc=\"lower right\")\n",
    "plt.savefig('Log_ROC')\n",
    "plt.show()"
   ]
  },
  {
   "cell_type": "code",
   "execution_count": 17,
   "id": "14e8b3d1",
   "metadata": {},
   "outputs": [
    {
     "name": "stdout",
     "output_type": "stream",
     "text": [
      "\n",
      " Train\n",
      "score:  0.879554714615715\n"
     ]
    },
    {
     "name": "stderr",
     "output_type": "stream",
     "text": [
      "/home/armando/.virtualenvs/school-54vk9BCB/lib/python3.8/site-packages/sklearn/metrics/_classification.py:1334: UndefinedMetricWarning: Precision and F-score are ill-defined and being set to 0.0 in labels with no predicted samples. Use `zero_division` parameter to control this behavior.\n",
      "  _warn_prf(average, modifier, msg_start, len(result))\n",
      "/home/armando/.virtualenvs/school-54vk9BCB/lib/python3.8/site-packages/sklearn/metrics/_classification.py:1334: UndefinedMetricWarning: Precision and F-score are ill-defined and being set to 0.0 in labels with no predicted samples. Use `zero_division` parameter to control this behavior.\n",
      "  _warn_prf(average, modifier, msg_start, len(result))\n",
      "/home/armando/.virtualenvs/school-54vk9BCB/lib/python3.8/site-packages/sklearn/metrics/_classification.py:1334: UndefinedMetricWarning: Precision and F-score are ill-defined and being set to 0.0 in labels with no predicted samples. Use `zero_division` parameter to control this behavior.\n",
      "  _warn_prf(average, modifier, msg_start, len(result))\n"
     ]
    },
    {
     "name": "stdout",
     "output_type": "stream",
     "text": [
      "              precision    recall  f1-score   support\n",
      "\n",
      "         0.0       0.88      1.00      0.94    454626\n",
      "         1.0       0.00      0.00      0.00     62256\n",
      "\n",
      "    accuracy                           0.88    516882\n",
      "   macro avg       0.44      0.50      0.47    516882\n",
      "weighted avg       0.77      0.88      0.82    516882\n",
      "\n",
      "\n",
      " Test\n",
      "score :  0.8795518125993941\n",
      "              precision    recall  f1-score   support\n",
      "\n",
      "         0.0       0.88      1.00      0.94    303084\n",
      "         1.0       0.00      0.00      0.00     41504\n",
      "\n",
      "    accuracy                           0.88    344588\n",
      "   macro avg       0.44      0.50      0.47    344588\n",
      "weighted avg       0.77      0.88      0.82    344588\n",
      "\n"
     ]
    }
   ],
   "source": [
    "class LogisticRegressionWithThreshold(LogisticRegression):\n",
    "    def predict(self, X, threshold=None):\n",
    "        if threshold == None: # If no threshold passed in, simply call the base class predict, effectively threshold=0.5\n",
    "            return LogisticRegression.predict(self, X)\n",
    "        else:\n",
    "            y_scores = LogisticRegression.predict_proba(self, X)[:, 1]\n",
    "            y_pred_with_threshold = (y_scores >= threshold).astype(int)\n",
    "\n",
    "            return y_pred_with_threshold\n",
    "    \n",
    "    def threshold_from_optimal_accuracy(self, X, y):\n",
    "            y_scores = LogisticRegression.predict_proba(self, X)[:, 1]\n",
    "            precisions, recalls, thresholds = precision_recall_curve(y, y_scores)\n",
    "            \n",
    "            accuracies = []\n",
    "            tns = []\n",
    "            fps = []\n",
    "            fns = []\n",
    "            tps = []\n",
    "\n",
    "            for threshold in thresholds:\n",
    "                y_pred_with_threshold = (y_scores >= threshold).astype(int)\n",
    "                tn, fp, fn, tp = confusion_matrix(y, y_pred_with_threshold).ravel()\n",
    "\n",
    "                accuracies.append((tp+tn)/(tn+fp+fn+tp))\n",
    "                tns.append(tn), fps.append(fp), fns.append(fn), tps.append(tp)\n",
    "            \n",
    "            df_accuracy = pd.DataFrame({'threshold':thresholds, 'accuracy':accuracies, 'tn':tns, 'fp':fps, 'fn':fns, 'tp':tps})\n",
    "\n",
    "            max_accuracy = df_accuracy['accuracy'].max()\n",
    "            threshold = df_accuracy[df_accuracy['accuracy']==max_accuracy].iloc[0]['threshold']\n",
    "\n",
    "            return threshold, max_accuracy, df_accuracy\n",
    "\n",
    "pca = decomposition.PCA()\n",
    "logreg = LogisticRegression()\n",
    "\n",
    "pipe = Pipeline(steps=[('pca', pca), ('logistic_Reg', logreg)])\n",
    "n_components = list(range(1,X.shape[1]+1,1))\n",
    "C = np.logspace(-3, 3, 50)\n",
    "penalty = ['l1', 'l2']\n",
    "solver = ['lbfgs', 'liblinear','newton-cg']\n",
    "\n",
    "parameters = dict(pca__n_components=n_components,\n",
    "                  logistic_Reg__C=C,\n",
    "                  logistic_Reg__penalty=penalty,\n",
    "                  logistic_Reg__solver=solver\n",
    "                  )\n",
    "\n",
    "kfold = KFold(n_splits=10, random_state=10, shuffle=True) \n",
    "logreg = GridSearchCV(pipe, parameters, cv=kfold)\n",
    "logreg = LogisticRegressionWithThreshold()\n",
    "logreg.fit(X_train, Y_train)\n",
    "\n",
    "#threshold, max_accuracy, df_accuracy = logreg.threshold_from_optimal_accuracy(X_train, Y_train)\n",
    "\n",
    "print(\"\\n Train\")\n",
    "y_predicted=logreg.predict(X_train)#, threshold)\n",
    "print(\"score: \", logreg.score(X_train, Y_train))\n",
    "print(classification_report(Y_train,y_predicted))\n",
    "\n",
    "print(\"\\n Test\")\n",
    "y_predicted=logreg.predict(X_valid)#, threshold)\n",
    "print(\"score : \",logreg.score(X_valid,Y_valid))\n",
    "print(classification_report(Y_valid,y_predicted))"
   ]
  },
  {
   "cell_type": "markdown",
   "id": "a6f78891",
   "metadata": {},
   "source": [
    "## Decision Tree Model"
   ]
  },
  {
   "cell_type": "code",
   "execution_count": 18,
   "id": "0560fcdd",
   "metadata": {
    "collapsed": true
   },
   "outputs": [
    {
     "name": "stdout",
     "output_type": "stream",
     "text": [
      "[0.06189386 0.09748879 0.06189386 ... 0.11998387 0.06189386 0.06189386]\n"
     ]
    }
   ],
   "source": [
    "from sklearn.tree import DecisionTreeClassifier\n",
    "\n",
    "X_train = train.drop(\"GaveThisYear\", axis=1)\n",
    "Y_train = train['GaveThisYear']\n",
    "X_valid = validation.drop(\"GaveThisYear\", axis=1)\n",
    "Y_valid = validation['GaveThisYear']\n",
    "\n",
    "DT_model = DecisionTreeClassifier(max_depth=5,criterion=\"entropy\").fit(X_train,Y_train)\n",
    "DT_predict_proba = DT_model.predict_proba(X_valid) #Predictions on Testing data\n",
    "DT_predict = DT_model.predict(X_valid) #Predictions on Testing data\n",
    "# Probabilities for each class\n",
    "DT_probs = DT_model.predict_proba(X_valid)[:, 1]\n",
    "print(DT_probs)"
   ]
  },
  {
   "cell_type": "code",
   "execution_count": 19,
   "id": "f08dac8a",
   "metadata": {},
   "outputs": [
    {
     "name": "stdout",
     "output_type": "stream",
     "text": [
      "Tuning for recall\n"
     ]
    },
    {
     "ename": "PicklingError",
     "evalue": "Could not pickle the task to send it to the workers.",
     "output_type": "error",
     "traceback": [
      "\u001b[0;31m---------------------------------------------------------------------------\u001b[0m",
      "\u001b[0;31m_RemoteTraceback\u001b[0m                          Traceback (most recent call last)",
      "\u001b[0;31m_RemoteTraceback\u001b[0m: \n\"\"\"\nTraceback (most recent call last):\n  File \"/home/armando/.virtualenvs/school-54vk9BCB/lib/python3.8/site-packages/joblib/externals/loky/backend/queues.py\", line 125, in _feed\n    obj_ = dumps(obj, reducers=reducers)\n  File \"/home/armando/.virtualenvs/school-54vk9BCB/lib/python3.8/site-packages/joblib/externals/loky/backend/reduction.py\", line 211, in dumps\n    dump(obj, buf, reducers=reducers, protocol=protocol)\n  File \"/home/armando/.virtualenvs/school-54vk9BCB/lib/python3.8/site-packages/joblib/externals/loky/backend/reduction.py\", line 204, in dump\n    _LokyPickler(file, reducers=reducers, protocol=protocol).dump(obj)\n  File \"/home/armando/.virtualenvs/school-54vk9BCB/lib/python3.8/site-packages/joblib/externals/cloudpickle/cloudpickle_fast.py\", line 632, in dump\n    return Pickler.dump(self, obj)\n  File \"/home/armando/.virtualenvs/school-54vk9BCB/lib/python3.8/site-packages/joblib/_memmapping_reducer.py\", line 446, in __call__\n    for dumped_filename in dump(a, filename):\n  File \"/home/armando/.virtualenvs/school-54vk9BCB/lib/python3.8/site-packages/joblib/numpy_pickle.py\", line 553, in dump\n    NumpyPickler(f, protocol=protocol).dump(value)\n  File \"/usr/lib/python3.8/pickle.py\", line 487, in dump\n    self.save(obj)\n  File \"/home/armando/.virtualenvs/school-54vk9BCB/lib/python3.8/site-packages/joblib/numpy_pickle.py\", line 352, in save\n    wrapper.write_array(obj, self)\n  File \"/home/armando/.virtualenvs/school-54vk9BCB/lib/python3.8/site-packages/joblib/numpy_pickle.py\", line 134, in write_array\n    pickler.file_handle.write(chunk.tobytes('C'))\nOSError: [Errno 28] No space left on device\n\"\"\"",
      "\nThe above exception was the direct cause of the following exception:\n",
      "\u001b[0;31mPicklingError\u001b[0m                             Traceback (most recent call last)",
      "Cell \u001b[0;32mIn [19], line 24\u001b[0m\n\u001b[1;32m     16\u001b[0m \u001b[39mprint\u001b[39m(\u001b[39mf\u001b[39m\u001b[39m\"\u001b[39m\u001b[39mTuning for \u001b[39m\u001b[39m{\u001b[39;00mscore\u001b[39m}\u001b[39;00m\u001b[39m\"\u001b[39m)    \n\u001b[1;32m     17\u001b[0m clf \u001b[39m=\u001b[39m GridSearchCV(\n\u001b[1;32m     18\u001b[0m     pipe, params,\n\u001b[1;32m     19\u001b[0m     cv \u001b[39m=\u001b[39m kfold,\n\u001b[0;32m   (...)\u001b[0m\n\u001b[1;32m     22\u001b[0m     verbose \u001b[39m=\u001b[39m \u001b[39m0\u001b[39m,\n\u001b[1;32m     23\u001b[0m     refit \u001b[39m=\u001b[39m \u001b[39mTrue\u001b[39;00m)\n\u001b[0;32m---> 24\u001b[0m clf\u001b[39m.\u001b[39;49mfit(X_train,Y_train)\n\u001b[1;32m     25\u001b[0m \u001b[39mprint\u001b[39m(clf\u001b[39m.\u001b[39mbest_params_)\n\u001b[1;32m     26\u001b[0m \u001b[39mprint\u001b[39m(clf\u001b[39m.\u001b[39mbest_score_, \u001b[39m'\u001b[39m\u001b[39m\\n\u001b[39;00m\u001b[39m\\n\u001b[39;00m\u001b[39m'\u001b[39m)\n",
      "File \u001b[0;32m~/.virtualenvs/school-54vk9BCB/lib/python3.8/site-packages/sklearn/model_selection/_search.py:875\u001b[0m, in \u001b[0;36mBaseSearchCV.fit\u001b[0;34m(self, X, y, groups, **fit_params)\u001b[0m\n\u001b[1;32m    869\u001b[0m     results \u001b[39m=\u001b[39m \u001b[39mself\u001b[39m\u001b[39m.\u001b[39m_format_results(\n\u001b[1;32m    870\u001b[0m         all_candidate_params, n_splits, all_out, all_more_results\n\u001b[1;32m    871\u001b[0m     )\n\u001b[1;32m    873\u001b[0m     \u001b[39mreturn\u001b[39;00m results\n\u001b[0;32m--> 875\u001b[0m \u001b[39mself\u001b[39;49m\u001b[39m.\u001b[39;49m_run_search(evaluate_candidates)\n\u001b[1;32m    877\u001b[0m \u001b[39m# multimetric is determined here because in the case of a callable\u001b[39;00m\n\u001b[1;32m    878\u001b[0m \u001b[39m# self.scoring the return type is only known after calling\u001b[39;00m\n\u001b[1;32m    879\u001b[0m first_test_score \u001b[39m=\u001b[39m all_out[\u001b[39m0\u001b[39m][\u001b[39m\"\u001b[39m\u001b[39mtest_scores\u001b[39m\u001b[39m\"\u001b[39m]\n",
      "File \u001b[0;32m~/.virtualenvs/school-54vk9BCB/lib/python3.8/site-packages/sklearn/model_selection/_search.py:1379\u001b[0m, in \u001b[0;36mGridSearchCV._run_search\u001b[0;34m(self, evaluate_candidates)\u001b[0m\n\u001b[1;32m   1377\u001b[0m \u001b[39mdef\u001b[39;00m \u001b[39m_run_search\u001b[39m(\u001b[39mself\u001b[39m, evaluate_candidates):\n\u001b[1;32m   1378\u001b[0m     \u001b[39m\"\"\"Search all candidates in param_grid\"\"\"\u001b[39;00m\n\u001b[0;32m-> 1379\u001b[0m     evaluate_candidates(ParameterGrid(\u001b[39mself\u001b[39;49m\u001b[39m.\u001b[39;49mparam_grid))\n",
      "File \u001b[0;32m~/.virtualenvs/school-54vk9BCB/lib/python3.8/site-packages/sklearn/model_selection/_search.py:822\u001b[0m, in \u001b[0;36mBaseSearchCV.fit.<locals>.evaluate_candidates\u001b[0;34m(candidate_params, cv, more_results)\u001b[0m\n\u001b[1;32m    814\u001b[0m \u001b[39mif\u001b[39;00m \u001b[39mself\u001b[39m\u001b[39m.\u001b[39mverbose \u001b[39m>\u001b[39m \u001b[39m0\u001b[39m:\n\u001b[1;32m    815\u001b[0m     \u001b[39mprint\u001b[39m(\n\u001b[1;32m    816\u001b[0m         \u001b[39m\"\u001b[39m\u001b[39mFitting \u001b[39m\u001b[39m{0}\u001b[39;00m\u001b[39m folds for each of \u001b[39m\u001b[39m{1}\u001b[39;00m\u001b[39m candidates,\u001b[39m\u001b[39m\"\u001b[39m\n\u001b[1;32m    817\u001b[0m         \u001b[39m\"\u001b[39m\u001b[39m totalling \u001b[39m\u001b[39m{2}\u001b[39;00m\u001b[39m fits\u001b[39m\u001b[39m\"\u001b[39m\u001b[39m.\u001b[39mformat(\n\u001b[1;32m    818\u001b[0m             n_splits, n_candidates, n_candidates \u001b[39m*\u001b[39m n_splits\n\u001b[1;32m    819\u001b[0m         )\n\u001b[1;32m    820\u001b[0m     )\n\u001b[0;32m--> 822\u001b[0m out \u001b[39m=\u001b[39m parallel(\n\u001b[1;32m    823\u001b[0m     delayed(_fit_and_score)(\n\u001b[1;32m    824\u001b[0m         clone(base_estimator),\n\u001b[1;32m    825\u001b[0m         X,\n\u001b[1;32m    826\u001b[0m         y,\n\u001b[1;32m    827\u001b[0m         train\u001b[39m=\u001b[39;49mtrain,\n\u001b[1;32m    828\u001b[0m         test\u001b[39m=\u001b[39;49mtest,\n\u001b[1;32m    829\u001b[0m         parameters\u001b[39m=\u001b[39;49mparameters,\n\u001b[1;32m    830\u001b[0m         split_progress\u001b[39m=\u001b[39;49m(split_idx, n_splits),\n\u001b[1;32m    831\u001b[0m         candidate_progress\u001b[39m=\u001b[39;49m(cand_idx, n_candidates),\n\u001b[1;32m    832\u001b[0m         \u001b[39m*\u001b[39;49m\u001b[39m*\u001b[39;49mfit_and_score_kwargs,\n\u001b[1;32m    833\u001b[0m     )\n\u001b[1;32m    834\u001b[0m     \u001b[39mfor\u001b[39;49;00m (cand_idx, parameters), (split_idx, (train, test)) \u001b[39min\u001b[39;49;00m product(\n\u001b[1;32m    835\u001b[0m         \u001b[39menumerate\u001b[39;49m(candidate_params), \u001b[39menumerate\u001b[39;49m(cv\u001b[39m.\u001b[39;49msplit(X, y, groups))\n\u001b[1;32m    836\u001b[0m     )\n\u001b[1;32m    837\u001b[0m )\n\u001b[1;32m    839\u001b[0m \u001b[39mif\u001b[39;00m \u001b[39mlen\u001b[39m(out) \u001b[39m<\u001b[39m \u001b[39m1\u001b[39m:\n\u001b[1;32m    840\u001b[0m     \u001b[39mraise\u001b[39;00m \u001b[39mValueError\u001b[39;00m(\n\u001b[1;32m    841\u001b[0m         \u001b[39m\"\u001b[39m\u001b[39mNo fits were performed. \u001b[39m\u001b[39m\"\u001b[39m\n\u001b[1;32m    842\u001b[0m         \u001b[39m\"\u001b[39m\u001b[39mWas the CV iterator empty? \u001b[39m\u001b[39m\"\u001b[39m\n\u001b[1;32m    843\u001b[0m         \u001b[39m\"\u001b[39m\u001b[39mWere there no candidates?\u001b[39m\u001b[39m\"\u001b[39m\n\u001b[1;32m    844\u001b[0m     )\n",
      "File \u001b[0;32m~/.virtualenvs/school-54vk9BCB/lib/python3.8/site-packages/joblib/parallel.py:1098\u001b[0m, in \u001b[0;36mParallel.__call__\u001b[0;34m(self, iterable)\u001b[0m\n\u001b[1;32m   1095\u001b[0m     \u001b[39mself\u001b[39m\u001b[39m.\u001b[39m_iterating \u001b[39m=\u001b[39m \u001b[39mFalse\u001b[39;00m\n\u001b[1;32m   1097\u001b[0m \u001b[39mwith\u001b[39;00m \u001b[39mself\u001b[39m\u001b[39m.\u001b[39m_backend\u001b[39m.\u001b[39mretrieval_context():\n\u001b[0;32m-> 1098\u001b[0m     \u001b[39mself\u001b[39;49m\u001b[39m.\u001b[39;49mretrieve()\n\u001b[1;32m   1099\u001b[0m \u001b[39m# Make sure that we get a last message telling us we are done\u001b[39;00m\n\u001b[1;32m   1100\u001b[0m elapsed_time \u001b[39m=\u001b[39m time\u001b[39m.\u001b[39mtime() \u001b[39m-\u001b[39m \u001b[39mself\u001b[39m\u001b[39m.\u001b[39m_start_time\n",
      "File \u001b[0;32m~/.virtualenvs/school-54vk9BCB/lib/python3.8/site-packages/joblib/parallel.py:975\u001b[0m, in \u001b[0;36mParallel.retrieve\u001b[0;34m(self)\u001b[0m\n\u001b[1;32m    973\u001b[0m \u001b[39mtry\u001b[39;00m:\n\u001b[1;32m    974\u001b[0m     \u001b[39mif\u001b[39;00m \u001b[39mgetattr\u001b[39m(\u001b[39mself\u001b[39m\u001b[39m.\u001b[39m_backend, \u001b[39m'\u001b[39m\u001b[39msupports_timeout\u001b[39m\u001b[39m'\u001b[39m, \u001b[39mFalse\u001b[39;00m):\n\u001b[0;32m--> 975\u001b[0m         \u001b[39mself\u001b[39m\u001b[39m.\u001b[39m_output\u001b[39m.\u001b[39mextend(job\u001b[39m.\u001b[39;49mget(timeout\u001b[39m=\u001b[39;49m\u001b[39mself\u001b[39;49m\u001b[39m.\u001b[39;49mtimeout))\n\u001b[1;32m    976\u001b[0m     \u001b[39melse\u001b[39;00m:\n\u001b[1;32m    977\u001b[0m         \u001b[39mself\u001b[39m\u001b[39m.\u001b[39m_output\u001b[39m.\u001b[39mextend(job\u001b[39m.\u001b[39mget())\n",
      "File \u001b[0;32m~/.virtualenvs/school-54vk9BCB/lib/python3.8/site-packages/joblib/_parallel_backends.py:567\u001b[0m, in \u001b[0;36mLokyBackend.wrap_future_result\u001b[0;34m(future, timeout)\u001b[0m\n\u001b[1;32m    564\u001b[0m \u001b[39m\"\"\"Wrapper for Future.result to implement the same behaviour as\u001b[39;00m\n\u001b[1;32m    565\u001b[0m \u001b[39mAsyncResults.get from multiprocessing.\"\"\"\u001b[39;00m\n\u001b[1;32m    566\u001b[0m \u001b[39mtry\u001b[39;00m:\n\u001b[0;32m--> 567\u001b[0m     \u001b[39mreturn\u001b[39;00m future\u001b[39m.\u001b[39;49mresult(timeout\u001b[39m=\u001b[39;49mtimeout)\n\u001b[1;32m    568\u001b[0m \u001b[39mexcept\u001b[39;00m CfTimeoutError \u001b[39mas\u001b[39;00m e:\n\u001b[1;32m    569\u001b[0m     \u001b[39mraise\u001b[39;00m \u001b[39mTimeoutError\u001b[39;00m \u001b[39mfrom\u001b[39;00m \u001b[39me\u001b[39;00m\n",
      "File \u001b[0;32m/usr/lib/python3.8/concurrent/futures/_base.py:437\u001b[0m, in \u001b[0;36mFuture.result\u001b[0;34m(self, timeout)\u001b[0m\n\u001b[1;32m    435\u001b[0m     \u001b[39mraise\u001b[39;00m CancelledError()\n\u001b[1;32m    436\u001b[0m \u001b[39melif\u001b[39;00m \u001b[39mself\u001b[39m\u001b[39m.\u001b[39m_state \u001b[39m==\u001b[39m FINISHED:\n\u001b[0;32m--> 437\u001b[0m     \u001b[39mreturn\u001b[39;00m \u001b[39mself\u001b[39;49m\u001b[39m.\u001b[39;49m__get_result()\n\u001b[1;32m    439\u001b[0m \u001b[39mself\u001b[39m\u001b[39m.\u001b[39m_condition\u001b[39m.\u001b[39mwait(timeout)\n\u001b[1;32m    441\u001b[0m \u001b[39mif\u001b[39;00m \u001b[39mself\u001b[39m\u001b[39m.\u001b[39m_state \u001b[39min\u001b[39;00m [CANCELLED, CANCELLED_AND_NOTIFIED]:\n",
      "File \u001b[0;32m/usr/lib/python3.8/concurrent/futures/_base.py:389\u001b[0m, in \u001b[0;36mFuture.__get_result\u001b[0;34m(self)\u001b[0m\n\u001b[1;32m    387\u001b[0m \u001b[39mif\u001b[39;00m \u001b[39mself\u001b[39m\u001b[39m.\u001b[39m_exception:\n\u001b[1;32m    388\u001b[0m     \u001b[39mtry\u001b[39;00m:\n\u001b[0;32m--> 389\u001b[0m         \u001b[39mraise\u001b[39;00m \u001b[39mself\u001b[39m\u001b[39m.\u001b[39m_exception\n\u001b[1;32m    390\u001b[0m     \u001b[39mfinally\u001b[39;00m:\n\u001b[1;32m    391\u001b[0m         \u001b[39m# Break a reference cycle with the exception in self._exception\u001b[39;00m\n\u001b[1;32m    392\u001b[0m         \u001b[39mself\u001b[39m \u001b[39m=\u001b[39m \u001b[39mNone\u001b[39;00m\n",
      "\u001b[0;31mPicklingError\u001b[0m: Could not pickle the task to send it to the workers."
     ]
    }
   ],
   "source": [
    "pca = decomposition.PCA()\n",
    "dt_model = DecisionTreeClassifier()\n",
    "pipe = Pipeline(steps=[('pca', pca), ('dt', dt_model)])\n",
    "n_components = list(range(1, X_train.shape[1]+1,2))\n",
    "\n",
    "params = {'pca__n_components' : n_components,\n",
    "          'dt__max_depth': list(range(5,10))+[None], \n",
    "          'dt__min_samples_leaf' : range(1,10),\n",
    "          'dt__min_samples_split': [1, 2, 3] + np.arange(0.1, 0.9, 0.1).tolist(),\n",
    "          'dt__criterion' : ['gini', 'entropy'],\n",
    "          'dt__max_features' : list(range(5,10,1))+[None]\n",
    "        }\n",
    "kfold = KFold(n_splits=2, random_state=10, shuffle=True) \n",
    "scores = ['recall', 'precision', 'f1']\n",
    "for score in scores:\n",
    "    print(f\"Tuning for {score}\")    \n",
    "    clf = GridSearchCV(\n",
    "        pipe, params,\n",
    "        cv = kfold,\n",
    "        n_jobs = -1, \n",
    "        scoring = f'{score}_macro',\n",
    "        verbose = 0,\n",
    "        refit = True)\n",
    "    clf.fit(X_train,Y_train)\n",
    "    print(clf.best_params_)\n",
    "    print(clf.best_score_, '\\n\\n')\n",
    "    pipe =  clf.best_estimator_\n",
    "\n",
    "print(\"FINAL\")\n",
    "print(clf.best_params_)\n",
    "print(clf.best_score_)"
   ]
  },
  {
   "cell_type": "code",
   "execution_count": null,
   "id": "a634a11d",
   "metadata": {
    "collapsed": true
   },
   "outputs": [
    {
     "name": "stdout",
     "output_type": "stream",
     "text": [
      "[[302417    667]\n",
      " [ 40886    618]]\n"
     ]
    }
   ],
   "source": [
    "#you can change the criteria\n",
    "import numpy as np\n",
    "from sklearn.metrics import confusion_matrix\n",
    "from sklearn.metrics import confusion_matrix\n",
    "\n",
    "\n",
    "confusion_matrix = confusion_matrix(Y_valid, DT_predict)\n",
    "print(confusion_matrix)\n"
   ]
  },
  {
   "cell_type": "code",
   "execution_count": null,
   "id": "44067449-2008-4519-aaf9-af32945e9fae",
   "metadata": {
    "collapsed": true
   },
   "outputs": [
    {
     "name": "stdout",
     "output_type": "stream",
     "text": [
      "              precision    recall  f1-score   support\n",
      "\n",
      "         0.0       0.88      1.00      0.94    303084\n",
      "         1.0       0.48      0.01      0.03     41504\n",
      "\n",
      "    accuracy                           0.88    344588\n",
      "   macro avg       0.68      0.51      0.48    344588\n",
      "weighted avg       0.83      0.88      0.83    344588\n",
      "\n"
     ]
    }
   ],
   "source": [
    "from sklearn.metrics import classification_report\n",
    "print(classification_report(Y_valid, DT_predict))"
   ]
  },
  {
   "cell_type": "code",
   "execution_count": null,
   "id": "51155944-104f-44c9-baf6-29bcb72446a9",
   "metadata": {
    "collapsed": true
   },
   "outputs": [
    {
     "data": {
      "image/png": "[encoded data removed]",
      "text/plain": [
       "<Figure size 640x480 with 1 Axes>"
      ]
     },
     "metadata": {},
     "output_type": "display_data"
    }
   ],
   "source": [
    "from sklearn.metrics import roc_auc_score\n",
    "from sklearn.metrics import roc_curve\n",
    "import matplotlib.pyplot as plt \n",
    "plt.rc(\"font\", size=14)\n",
    "\n",
    "DT_roc_auc = roc_auc_score(Y_valid, DT_model.predict(X_valid))\n",
    "fpr, tpr, thresholds = roc_curve(Y_valid, DT_model.predict_proba(X_valid)[:,1])\n",
    "plt.figure()\n",
    "plt.plot(fpr, tpr, label='Decision tree (area = %0.2f)' % DT_roc_auc)\n",
    "plt.plot([0, 1], [0, 1],'r--')\n",
    "plt.xlim([0.0, 1.0])\n",
    "plt.ylim([0.0, 1.05])\n",
    "plt.xlabel('False Positive Rate')\n",
    "plt.ylabel('True Positive Rate')\n",
    "plt.title('Receiver operating characteristic')\n",
    "plt.legend(loc=\"lower right\")\n",
    "plt.savefig('DT_ROC')\n",
    "plt.show()"
   ]
  },
  {
   "cell_type": "markdown",
   "id": "195cb6d4",
   "metadata": {},
   "source": [
    "### *Other models may also be helpful for this game*\n",
    "\n",
    "Reference: https://scikit-learn.org/stable/supervised_learning.html\n",
    "    "
   ]
  },
  {
   "cell_type": "markdown",
   "id": "95983c35",
   "metadata": {},
   "source": [
    "## Scoring New Data\n",
    "\n",
    "### Prepare data for scoring"
   ]
  },
  {
   "cell_type": "code",
   "execution_count": 27,
   "id": "d1639b73",
   "metadata": {},
   "outputs": [],
   "source": [
    "data3 = sas_session.sasdata2dataframe(\n",
    "table='score',\n",
    "libref='cortex'\n",
    ")\n",
    "data4 = sas_session.sasdata2dataframe(\n",
    "table='score_rd2_contact',\n",
    "libref='cortex'\n",
    ")\n",
    "data5 = sas_session.sasdata2dataframe(\n",
    "table='SCORE_RD2_NOCONTACT',\n",
    "libref='cortex'\n",
    ")"
   ]
  },
  {
   "cell_type": "markdown",
   "id": "6aaee9cc-8511-41a8-b0ab-a882d405d88a",
   "metadata": {},
   "source": [
    " ### Score new data based on your champion model\n",
    " \n",
    " Pick your champion model from previous steps and use it to predict next year donations. \n",
    " \n",
    " In this case, the Decision Tree model performed better than the Logistic Regression model based on the AUC criterion."
   ]
  },
  {
   "cell_type": "markdown",
   "id": "685c9354-243e-434e-80d6-fcf57297e4b9",
   "metadata": {},
   "source": [
    "### Predict 'probability of giving' for members who were contacted"
   ]
  },
  {
   "cell_type": "code",
   "execution_count": 28,
   "id": "28d9d024",
   "metadata": {},
   "outputs": [],
   "source": [
    "#scoring_data_contact = pd.merge(data3, data4, on=[\"ID\"],how=\"right\")\n",
    "#scoring_data_contact.to_csv(\"og3_predict.csv\", index= False)\n",
    "scoring_data_contact = pd.read_csv(\"og3_predict.csv\")"
   ]
  },
  {
   "cell_type": "code",
   "execution_count": null,
   "id": "18b8a688-14e1-4877-805b-3b967a34b53b",
   "metadata": {
    "collapsed": true
   },
   "outputs": [
    {
     "data": {
      "text/html": [
       "<div>\n",
       "<style scoped>\n",
       "    .dataframe tbody tr th:only-of-type {\n",
       "        vertical-align: middle;\n",
       "    }\n",
       "\n",
       "    .dataframe tbody tr th {\n",
       "        vertical-align: top;\n",
       "    }\n",
       "\n",
       "    .dataframe thead th {\n",
       "        text-align: right;\n",
       "    }\n",
       "</style>\n",
       "<table border=\"1\" class=\"dataframe\">\n",
       "  <thead>\n",
       "    <tr style=\"text-align: right;\">\n",
       "      <th></th>\n",
       "      <th>ID</th>\n",
       "      <th>ProbContact</th>\n",
       "    </tr>\n",
       "  </thead>\n",
       "  <tbody>\n",
       "    <tr>\n",
       "      <th>0</th>\n",
       "      <td>2000001.0</td>\n",
       "      <td>0.194586</td>\n",
       "    </tr>\n",
       "    <tr>\n",
       "      <th>1</th>\n",
       "      <td>2000002.0</td>\n",
       "      <td>0.195924</td>\n",
       "    </tr>\n",
       "    <tr>\n",
       "      <th>2</th>\n",
       "      <td>2000003.0</td>\n",
       "      <td>0.083573</td>\n",
       "    </tr>\n",
       "    <tr>\n",
       "      <th>3</th>\n",
       "      <td>2000004.0</td>\n",
       "      <td>0.097674</td>\n",
       "    </tr>\n",
       "    <tr>\n",
       "      <th>4</th>\n",
       "      <td>2000005.0</td>\n",
       "      <td>0.069411</td>\n",
       "    </tr>\n",
       "  </tbody>\n",
       "</table>\n",
       "</div>"
      ],
      "text/plain": [
       "          ID  ProbContact\n",
       "0  2000001.0     0.194586\n",
       "1  2000002.0     0.195924\n",
       "2  2000003.0     0.083573\n",
       "3  2000004.0     0.097674\n",
       "4  2000005.0     0.069411"
      ]
     },
     "execution_count": 24,
     "metadata": {},
     "output_type": "execute_result"
    }
   ],
   "source": [
    "\n",
    "# Perform the same strategy for handling missing values for the score dataset.\n",
    "# In this case, we will only replace missing values of the MinGift variable.\n",
    "\n",
    "\n",
    "var_types = {\"number\" : \"median\", \"object\" : \"mode\"}\n",
    "for var_type in list(var_types.keys()):\n",
    "    for col in scoring_data_contact.select_dtypes(include=var_type).columns:\n",
    "        scoring_data_contact[col] = scoring_data_contact[col].fillna(getattr(scoring_data_contact[col], var_types[var_type])())\n",
    "\n",
    "for col in scoring_data_contact.select_dtypes(include=\"object\"):\n",
    "    scoring_data_contact[col] = scoring_data_contact[col].astype('category')\n",
    "    scoring_data_contact[col] = scoring_data_contact[col].cat.codes\n",
    "\n",
    "X = scoring_data_contact[selection] \n",
    "\n",
    "\n",
    "power = PowerTransformer(method='yeo-johnson', standardize=True)\n",
    "X_cols = X.columns\n",
    "X = power.fit_transform(X)\n",
    "X = pd.DataFrame(X, columns = X_cols) \n",
    "\n",
    "DT_predict_contact=logreg.predict_proba(X)[:,1]\n",
    "scoring_data_contact['Prediction_prob'] = DT_predict_contact\n",
    "\n",
    "scoring_data_contact= scoring_data_contact[['ID','Prediction_prob']]\n",
    "scoring_data_contact = scoring_data_contact.rename({'Prediction_prob': 'ProbContact'}, axis=1) \n",
    "scoring_data_contact.head()"
   ]
  },
  {
   "cell_type": "markdown",
   "id": "9606447c-5c1e-4028-b6ea-44f52897524d",
   "metadata": {},
   "source": [
    "### Predict 'probability of giving' for members who were not contacted"
   ]
  },
  {
   "cell_type": "code",
   "execution_count": 30,
   "id": "3cfc82e9",
   "metadata": {},
   "outputs": [],
   "source": [
    "#scoring_data_nocontact = pd.merge(data3, data5, on=[\"ID\"],how=\"right\")\n",
    "#scoring_data_nocontact.to_csv(\"og3_predict_2.csv\", index= False)\n",
    "scoring_data_nocontact = pd.read_csv(\"og3_predict_2.csv\")"
   ]
  },
  {
   "cell_type": "code",
   "execution_count": null,
   "id": "de392f5e",
   "metadata": {
    "collapsed": true
   },
   "outputs": [
    {
     "data": {
      "text/html": [
       "<div>\n",
       "<style scoped>\n",
       "    .dataframe tbody tr th:only-of-type {\n",
       "        vertical-align: middle;\n",
       "    }\n",
       "\n",
       "    .dataframe tbody tr th {\n",
       "        vertical-align: top;\n",
       "    }\n",
       "\n",
       "    .dataframe thead th {\n",
       "        text-align: right;\n",
       "    }\n",
       "</style>\n",
       "<table border=\"1\" class=\"dataframe\">\n",
       "  <thead>\n",
       "    <tr style=\"text-align: right;\">\n",
       "      <th></th>\n",
       "      <th>ID</th>\n",
       "      <th>ProbNoContact</th>\n",
       "    </tr>\n",
       "  </thead>\n",
       "  <tbody>\n",
       "    <tr>\n",
       "      <th>0</th>\n",
       "      <td>2000001.0</td>\n",
       "      <td>0.194586</td>\n",
       "    </tr>\n",
       "    <tr>\n",
       "      <th>1</th>\n",
       "      <td>2000002.0</td>\n",
       "      <td>0.195924</td>\n",
       "    </tr>\n",
       "    <tr>\n",
       "      <th>2</th>\n",
       "      <td>2000003.0</td>\n",
       "      <td>0.083573</td>\n",
       "    </tr>\n",
       "    <tr>\n",
       "      <th>3</th>\n",
       "      <td>2000004.0</td>\n",
       "      <td>0.097674</td>\n",
       "    </tr>\n",
       "    <tr>\n",
       "      <th>4</th>\n",
       "      <td>2000005.0</td>\n",
       "      <td>0.069411</td>\n",
       "    </tr>\n",
       "  </tbody>\n",
       "</table>\n",
       "</div>"
      ],
      "text/plain": [
       "          ID  ProbNoContact\n",
       "0  2000001.0       0.194586\n",
       "1  2000002.0       0.195924\n",
       "2  2000003.0       0.083573\n",
       "3  2000004.0       0.097674\n",
       "4  2000005.0       0.069411"
      ]
     },
     "execution_count": 25,
     "metadata": {},
     "output_type": "execute_result"
    }
   ],
   "source": [
    "\n",
    "# Perform the same strategy for handling missing values for the score dataset.\n",
    "# In this case, we will only replace missing values of the MinGift variable.\n",
    "\n",
    "\n",
    "var_types = {\"number\" : \"median\", \"object\" : \"mode\"}\n",
    "for var_type in list(var_types.keys()):\n",
    "    for col in scoring_data_nocontact.select_dtypes(include=var_type).columns:\n",
    "        scoring_data_nocontact[col] = scoring_data_nocontact[col].fillna(getattr(scoring_data_nocontact[col], var_types[var_type])())\n",
    "\n",
    "for col in scoring_data_nocontact.select_dtypes(include=\"object\"):\n",
    "    scoring_data_nocontact[col] = scoring_data_nocontact[col].astype('category')\n",
    "    scoring_data_nocontact[col] = scoring_data_nocontact[col].cat.codes\n",
    "\n",
    "X = scoring_data_nocontact[selection] \n",
    "\n",
    "\n",
    "power = PowerTransformer(method='yeo-johnson', standardize=True)\n",
    "X_cols = X.columns\n",
    "X = power.fit_transform(X)\n",
    "X = pd.DataFrame(X, columns = X_cols) \n",
    "\n",
    "DT_predict_nocontact=logreg.predict_proba(X)[:,1]\n",
    "scoring_data_nocontact['Prediction_prob'] = DT_predict_nocontact\n",
    "\n",
    "scoring_data_nocontact= scoring_data_nocontact[['ID','Prediction_prob']]\n",
    "scoring_data_nocontact = scoring_data_nocontact.rename({'Prediction_prob': 'ProbNoContact'}, axis=1) \n",
    "scoring_data_nocontact.head()"
   ]
  },
  {
   "cell_type": "code",
   "execution_count": null,
   "id": "5036d69c",
   "metadata": {
    "collapsed": true
   },
   "outputs": [
    {
     "data": {
      "text/html": [
       "<div>\n",
       "<style scoped>\n",
       "    .dataframe tbody tr th:only-of-type {\n",
       "        vertical-align: middle;\n",
       "    }\n",
       "\n",
       "    .dataframe tbody tr th {\n",
       "        vertical-align: top;\n",
       "    }\n",
       "\n",
       "    .dataframe thead th {\n",
       "        text-align: right;\n",
       "    }\n",
       "</style>\n",
       "<table border=\"1\" class=\"dataframe\">\n",
       "  <thead>\n",
       "    <tr style=\"text-align: right;\">\n",
       "      <th></th>\n",
       "      <th>ID</th>\n",
       "      <th>ProbContact</th>\n",
       "      <th>ProbNoContact</th>\n",
       "    </tr>\n",
       "  </thead>\n",
       "  <tbody>\n",
       "    <tr>\n",
       "      <th>325970</th>\n",
       "      <td>2325971.0</td>\n",
       "      <td>0.084742</td>\n",
       "      <td>0.084742</td>\n",
       "    </tr>\n",
       "    <tr>\n",
       "      <th>805744</th>\n",
       "      <td>2805745.0</td>\n",
       "      <td>0.155698</td>\n",
       "      <td>0.155698</td>\n",
       "    </tr>\n",
       "    <tr>\n",
       "      <th>438384</th>\n",
       "      <td>2438385.0</td>\n",
       "      <td>0.138283</td>\n",
       "      <td>0.138283</td>\n",
       "    </tr>\n",
       "    <tr>\n",
       "      <th>97753</th>\n",
       "      <td>2097754.0</td>\n",
       "      <td>0.048490</td>\n",
       "      <td>0.048490</td>\n",
       "    </tr>\n",
       "    <tr>\n",
       "      <th>512881</th>\n",
       "      <td>2512882.0</td>\n",
       "      <td>0.136646</td>\n",
       "      <td>0.136646</td>\n",
       "    </tr>\n",
       "    <tr>\n",
       "      <th>495590</th>\n",
       "      <td>2495591.0</td>\n",
       "      <td>0.353314</td>\n",
       "      <td>0.353314</td>\n",
       "    </tr>\n",
       "    <tr>\n",
       "      <th>715502</th>\n",
       "      <td>2715503.0</td>\n",
       "      <td>0.131196</td>\n",
       "      <td>0.131196</td>\n",
       "    </tr>\n",
       "    <tr>\n",
       "      <th>314944</th>\n",
       "      <td>2314945.0</td>\n",
       "      <td>0.109574</td>\n",
       "      <td>0.109574</td>\n",
       "    </tr>\n",
       "    <tr>\n",
       "      <th>603443</th>\n",
       "      <td>2603444.0</td>\n",
       "      <td>0.179408</td>\n",
       "      <td>0.179408</td>\n",
       "    </tr>\n",
       "    <tr>\n",
       "      <th>432672</th>\n",
       "      <td>2432673.0</td>\n",
       "      <td>0.066198</td>\n",
       "      <td>0.066198</td>\n",
       "    </tr>\n",
       "  </tbody>\n",
       "</table>\n",
       "</div>"
      ],
      "text/plain": [
       "               ID  ProbContact  ProbNoContact\n",
       "325970  2325971.0     0.084742       0.084742\n",
       "805744  2805745.0     0.155698       0.155698\n",
       "438384  2438385.0     0.138283       0.138283\n",
       "97753   2097754.0     0.048490       0.048490\n",
       "512881  2512882.0     0.136646       0.136646\n",
       "495590  2495591.0     0.353314       0.353314\n",
       "715502  2715503.0     0.131196       0.131196\n",
       "314944  2314945.0     0.109574       0.109574\n",
       "603443  2603444.0     0.179408       0.179408\n",
       "432672  2432673.0     0.066198       0.066198"
      ]
     },
     "execution_count": 26,
     "metadata": {},
     "output_type": "execute_result"
    }
   ],
   "source": [
    "result_Prob = pd.merge(scoring_data_contact, scoring_data_nocontact, on=[\"ID\"],how=\"right\")\n",
    "result_Prob.sort_values(by=['ID'], inplace=True)\n",
    "result_Prob.sample(10)"
   ]
  },
  {
   "cell_type": "markdown",
   "id": "f09bf90d",
   "metadata": {},
   "source": [
    "## Exporting Results to a CSV File"
   ]
  },
  {
   "cell_type": "code",
   "execution_count": null,
   "id": "606bf0a9",
   "metadata": {},
   "outputs": [],
   "source": [
    "result_Prob.to_csv('Round2_Output_prob.csv', index=False)"
   ]
  },
  {
   "cell_type": "code",
   "execution_count": null,
   "id": "d9741c47-e3ba-4c76-9ddc-f1a6ee545677",
   "metadata": {},
   "outputs": [],
   "source": [
    "import pandas as pd\n",
    "\n",
    "NB = 90000\n",
    "\n",
    "probabilities = pd.read_csv(\"Round2_Output_prob.csv\")\n",
    "amounts = pd.read_csv(\"Round2_Output_amt.csv\")\n",
    "\n",
    "def Calc_Uplift(raw_data):\n",
    "    return ((raw_data['AmtContact']*raw_data['ProbContact']) - (raw_data['AmtNoContact']*raw_data['ProbNoContact']))\n",
    "\n",
    "raw_submission = pd.merge(probabilities, amounts, on=[\"ID\"], how=\"right\")\n",
    "raw_submission[\"Uplift\"] = raw_submission.apply(lambda row: Calc_Uplift(row), axis=1)\n",
    "\n",
    "# Sorting data by descending Uplift value\n",
    "raw_submission.sort_values(by=['Uplift'], ascending=False, inplace=True)\n"
   ]
  },
  {
   "cell_type": "code",
   "execution_count": null,
   "id": "4d5cbccf",
   "metadata": {},
   "outputs": [],
   "source": [
    "# Export the final csv file\n",
    "\n",
    "submission = raw_submission.head(NB)\n",
    "submission = submission.astype({'ID':'int'})\n",
    "submission[\"ID\"].to_csv('Round2 Output final.csv', index=False)\n"
   ]
  },
  {
   "cell_type": "code",
   "execution_count": null,
   "id": "25a62862-9ecb-4331-b934-fd7caaf858c4",
   "metadata": {},
   "outputs": [],
   "source": [
    "# Congratulations! You are now done with Round 2. You are ready to prepare your solution to upload it to the leaderboard."
   ]
  },
  {
   "cell_type": "code",
   "execution_count": null,
   "id": "74e84743",
   "metadata": {
    "collapsed": true
   },
   "outputs": [],
   "source": [
    "# Reminder: Please note that you need only one column (the list of donors' IDs) to submit to the leaderboard."
   ]
  }
 ],
 "metadata": {
  "kernelspec": {
   "display_name": "Python 3.8.10 ('school-54vk9BCB')",
   "language": "python",
   "name": "python3"
  },
  "language_info": {
   "codemirror_mode": {
    "name": "ipython",
    "version": 3
   },
   "file_extension": ".py",
   "mimetype": "text/x-python",
   "name": "python",
   "nbconvert_exporter": "python",
   "pygments_lexer": "ipython3",
   "version": "3.8.10"
  },
  "vscode": {
   "interpreter": {
    "hash": "9968ff9a8841002687d86f5c9e271499e1fab9447fb44a685e7380ab6c2f05b4"
   }
  }
 },
 "nbformat": 4,
 "nbformat_minor": 5
}
